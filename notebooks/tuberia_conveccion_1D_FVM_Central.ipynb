{
 "cells": [
  {
   "cell_type": "markdown",
   "id": "66fcc145-65ba-48f1-a688-05b24c909e52",
   "metadata": {},
   "source": [
    "# Conservación de energía en flujo en tubería 1‐D\n",
    "\n",
    "## Workshop - Introducción a OpenFOAM para la Ingeniería Química\n"
   ]
  },
  {
   "cell_type": "markdown",
   "id": "66246c13-8bfb-436b-bdde-d45c56a80d08",
   "metadata": {},
   "source": [
    "<img src=\"../Documentacion/Figuras/Fig_1_Seccion_1.1_c.png\" alt=\"Alternative text\" \n",
    "     align=\"right\"\n",
    "     width=\"500\"/> \n",
    "\n",
    "La ecuación en derivadas parciales en una dimensión que describe el problema de transferencia de calor de un fluido en una tubería circular y su calentamiento por convección natural (Figura 1) esta dada por:\n",
    "\n",
    "$$\\rho \\hat{C}_p \\frac{\\partial T}{\\partial t} = k \\frac{\\partial^2 T}{\\partial x^2} - \\rho \\hat{C}_p v_0 \\frac{\\partial T}{\\partial x} - \\frac{4 h(T-T_\\text{aire})}{d_i} $$\n",
    "\n",
    "Con condiciones de borde:\n",
    "\n",
    "$$ CB1: T(x=0) = T_{in}$$\n",
    "\n",
    "$$ CB2: \\frac{d T}{d x}(x = L) = 0$$\n",
    "\n",
    "Y condición inicial:\n",
    "\n",
    "$$ CI: T(x, t=0) = T_{in}$$\n",
    "\n",
    "La versión discretizada de esta ecuación que obtuvimos al aplicar el [método de volúmenes finitos](https://github.com/openfoam-ICL-UC/openfoam_intro_ES/wiki/Conservaci%C3%B3n-de-energ%C3%ADa-en-flujo-en-tuber%C3%ADa-1%E2%80%90D) y considerando un esquema central para las derivadas espaciales y un esquema Eurler hacia adelante para la derivada temporal."
   ]
  },
  {
   "cell_type": "markdown",
   "id": "0cdda0e1-abd9-4de9-9b6a-115c96cdb14a",
   "metadata": {},
   "source": [
    "### Importar módulos"
   ]
  },
  {
   "cell_type": "code",
   "execution_count": 508,
   "id": "830ed0e7-23b0-49b1-be84-234062fce3b1",
   "metadata": {},
   "outputs": [],
   "source": [
    "# Mejorar calidad de gráficos en Jupyter Notebook\n",
    "#%matplotlib notebook\n",
    "\n",
    "# Visualización de datos y gráficos\n",
    "import matplotlib\n",
    "import matplotlib.pyplot as plt \n",
    "\n",
    "# Computación numérica\n",
    "import numpy as np\n",
    "\n",
    "# Función para integración numérica\n",
    "from scipy.integrate import solve_ivp"
   ]
  },
  {
   "cell_type": "markdown",
   "id": "f2117065-a298-4c1e-9782-7f7e9e393446",
   "metadata": {},
   "source": [
    "### Inicializar las variables y parámetros del problema"
   ]
  },
  {
   "cell_type": "code",
   "execution_count": 509,
   "id": "452d373c-4904-4eb5-b6c1-fb0744b4e29d",
   "metadata": {},
   "outputs": [
    {
     "name": "stdout",
     "output_type": "stream",
     "text": [
      "Pr = 2.769\n"
     ]
    }
   ],
   "source": [
    "# Parámetros constantes conocidos\n",
    "\n",
    "# Largo de la tubería / m\n",
    "L = 1 #0.5\n",
    "\n",
    "# Diámetro interno de la tubería / m\n",
    "di = 0.0254*2\n",
    "\n",
    "# Velocidad del fluido / m s^-1\n",
    "u0 = 0.1\n",
    "\n",
    "# Temperatura del aire / K\n",
    "Taire = 273.15 + 25\n",
    "\n",
    "# Temperatura de entrada del fluido / K\n",
    "Tin = 70\n",
    "\n",
    "# Coeficiente de transferencia de calor por convección natural / W m^-2 K^-1 \n",
    "h = 25\n",
    "\n",
    "# Propiedades del Nitrogeno liquido a 70 K y 1 atm\n",
    "# Densidad del fluido / kg m^-3\n",
    "rho = 838.645\n",
    "\n",
    "# Viscosidad / Pa s\n",
    "mu = 2.2e-4\n",
    "\n",
    "# Conductividad termica / W m^-1 K^-1 \n",
    "k = 0.16\n",
    "\n",
    "# Capacidad calorífica a presión constante / J kg^-1 K^-1\n",
    "Cp = 2014.03\n",
    "\n",
    "# Difusividad térmica / m^2 s^-1\n",
    "alpha = k / (rho * Cp) \n",
    "\n",
    "# Prandtl number Pr=(mu/rho)/alpha\n",
    "Pr = (mu/rho)/alpha\n",
    "print('Pr = %.3f' %Pr)"
   ]
  },
  {
   "cell_type": "markdown",
   "id": "cbef121b-3b4e-4d4f-b32e-4de759bcb245",
   "metadata": {},
   "source": [
    "### Generar la grilla 1-D y espaciamiento espacial"
   ]
  },
  {
   "cell_type": "code",
   "execution_count": 510,
   "id": "7899967b-f02b-4f2c-9d77-516d88d60f48",
   "metadata": {},
   "outputs": [
    {
     "name": "stdout",
     "output_type": "stream",
     "text": [
      "dx =  0.01\n",
      "[0.005 0.015 0.025 0.035 0.045 0.055 0.065 0.075 0.085 0.095 0.105 0.115\n",
      " 0.125 0.135 0.145 0.155 0.165 0.175 0.185 0.195 0.205 0.215 0.225 0.235\n",
      " 0.245 0.255 0.265 0.275 0.285 0.295 0.305 0.315 0.325 0.335 0.345 0.355\n",
      " 0.365 0.375 0.385 0.395 0.405 0.415 0.425 0.435 0.445 0.455 0.465 0.475\n",
      " 0.485 0.495 0.505 0.515 0.525 0.535 0.545 0.555 0.565 0.575 0.585 0.595\n",
      " 0.605 0.615 0.625 0.635 0.645 0.655 0.665 0.675 0.685 0.695 0.705 0.715\n",
      " 0.725 0.735 0.745 0.755 0.765 0.775 0.785 0.795 0.805 0.815 0.825 0.835\n",
      " 0.845 0.855 0.865 0.875 0.885 0.895 0.905 0.915 0.925 0.935 0.945 0.955\n",
      " 0.965 0.975 0.985 0.995]\n"
     ]
    }
   ],
   "source": [
    "# Grilla en coordenada x a lo largo de la tubería\n",
    "\n",
    "# Tupla que contiene el valor de x inicial y final\n",
    "x_rango = (0, L)\n",
    "\n",
    "# Número de puntos en la grilla\n",
    "N = 100 #*10\n",
    "\n",
    "# Espaciamiento espacial\n",
    "dx = L/N\n",
    "dx_half = dx/2\n",
    "\n",
    "\n",
    "# Vector con coordenadas en x\n",
    "# el vector x_grilla almacena las coordenadas de los puntos centrales (P) de cada volumen de control\n",
    "x_grilla = np.linspace(dx_half, L-dx_half, N)\n",
    "\n",
    "print('dx = ',dx)\n",
    "print(x_grilla)"
   ]
  },
  {
   "cell_type": "code",
   "execution_count": 511,
   "id": "037aad17-9e26-45dd-ab03-ed56b828a72d",
   "metadata": {},
   "outputs": [
    {
     "name": "stdout",
     "output_type": "stream",
     "text": [
      "Cell Peclet numer =  10556.601183437502\n"
     ]
    }
   ],
   "source": [
    "# Cell Peclet number\n",
    "# for central differencing Pe = rho*u0/(rho*alpha/dx) < 2\n",
    "Pe = rho*u0/((rho*alpha)/dx)\n",
    "print('Cell Peclet numer = ',Pe)"
   ]
  },
  {
   "cell_type": "markdown",
   "id": "d4d08f56-f083-40f8-9dc0-74490a8a6ef4",
   "metadata": {},
   "source": [
    "### Definiendo espaciamiento temporal"
   ]
  },
  {
   "cell_type": "code",
   "execution_count": 512,
   "id": "75306134-2934-4a5b-9758-d46fcc083cb0",
   "metadata": {},
   "outputs": [
    {
     "name": "stdout",
     "output_type": "stream",
     "text": [
      "dt (CFL) <= 2.00e-01\n",
      "dt (cond) <= 5.28e+02\n",
      "dt 4.00e-02\n",
      "final time = 1.20e+01\n",
      "dt  0.039999999999999994\n"
     ]
    }
   ],
   "source": [
    "# Courant–Friedrichs–Lewy number\n",
    "CFL_max = 1.0\n",
    "dt_CFL = CFL_max * 2 * dx / u0\n",
    "print('dt (CFL) <= %.2e' %dt_CFL)\n",
    "\n",
    "# rho*Cp*dx/dt > 2*k/dx\n",
    "dt_cond = rho*Cp*dx**2/(2*k)\n",
    "print('dt (cond) <= %.2e' %dt_cond)\n",
    "\n",
    "# Espaciamiento temporal\n",
    "dt = min(dt_CFL,dt_cond)\n",
    "dt = dt/5\n",
    "print('dt %.2e' %dt)\n",
    "\n",
    "# Tiempo inicial\n",
    "t_inicial = 0.0\n",
    "\n",
    "# Tiempo final\n",
    "t_final = 12\n",
    "print('final time = %.2e' %t_final)\n",
    "\n",
    "if dt > t_final:\n",
    "    dt = t_final/100\n",
    "print('dt ',dt)\n",
    "\n",
    "#if dt < 5e-2:\n",
    "#    t_final = 1000*dt\n",
    "#print('final time = %.2e' %t_final)\n",
    "\n",
    "#Condición inicial de temperatura\n",
    "T = np.ones(N) * Tin "
   ]
  },
  {
   "cell_type": "code",
   "execution_count": 513,
   "id": "b6d02e74-9c71-4831-a4a5-93e28e34ed1d",
   "metadata": {},
   "outputs": [
    {
     "name": "stdout",
     "output_type": "stream",
     "text": [
      "c = 4.00e-01\n",
      "d = 3.79e-05\n",
      "FTCS stability condition: c^2 <= 2*d <= 1\n",
      "c^2 = 2e-01\n",
      "2*d = 8e-05\n"
     ]
    }
   ],
   "source": [
    "c = u0*dt/dx\n",
    "print('c = %.2e' %c)\n",
    "d = alpha*dt/(dx**2)\n",
    "print('d = %.2e' %d)\n",
    "print('FTCS stability condition: c^2 <= 2*d <= 1')\n",
    "print('c^2 = %2.e' %(c**2))\n",
    "print('2*d = %2.e' %(2*d))"
   ]
  },
  {
   "cell_type": "markdown",
   "id": "b6c02751-2d92-4198-8d3e-32e8e955c70b",
   "metadata": {},
   "source": [
    "### Definir los coefficients de la matriz A y el vector b\n",
    "\n",
    "La ecuación discretizada por el método de volúmenes finitos puede escribirse en forma matricial como:\n",
    "\n",
    "$$ a_P \\mathbf{T}^{n+1} = \\mathbf{A}\\mathbf{T}^{n} + \\mathbf{b}$$\n",
    "\n",
    "#### Discretización de volúmenes de control internos:\n",
    "\n",
    "$$ \\frac{\\rho C_p \\Delta x}{\\Delta t} T_P^{n+1} = \\left(-\\frac{\\rho C_p v_0}{2} + \\frac{k}{\\Delta x}\\right)T_E^n + \\left(\\frac{\\rho C_p v_0}{2} + \\frac{k}{\\Delta x}\\right)T_W^n + \\left(\\frac{\\rho C_p \\Delta x}{\\Delta t} -2\\frac{k}{\\Delta x} - \\frac{4 h \\Delta x}{d_i}\\right)T_P^n + \\frac{4 h\\Delta x}{d_i}T_\\text{aire}$$\n",
    "\n",
    "Podemos definir los siquientes coeficientes:\n",
    "\n",
    "$$ a_P T_P^{n+1} = a_E T_E^n + a_W T_W^n + a_P' T_P^n + S_u$$\n",
    "\n",
    "$$ a_P = \\frac{\\rho C_p \\Delta x}{\\Delta t}$$\n",
    "\n",
    "$$ a_E = -\\frac{\\rho C_p v_0}{2} + \\frac{k}{\\Delta x}$$\n",
    "\n",
    "$$ a_W = \\frac{\\rho C_p v_0}{2} + \\frac{k}{\\Delta x}$$\n",
    "\n",
    "$$ S_p = - \\frac{4 h \\Delta x}{d_i}$$\n",
    "\n",
    "$$ a_P' = a_P - (a_E + a_W) + S_p$$\n",
    "\n",
    "$$ S_u = \\frac{4 h \\Delta x}{d_i}T_\\text{aire}$$"
   ]
  },
  {
   "cell_type": "code",
   "execution_count": 521,
   "id": "f07cc22e-b83b-43c7-a8c2-f5f90c97143b",
   "metadata": {},
   "outputs": [
    {
     "name": "stdout",
     "output_type": "stream",
     "text": [
      "aP = 422264.0\n",
      "aE = -84436.8\n",
      "aW = 84468.8\n",
      "aPn = 422212.4\n",
      "|sum a_nb|/|aP_n| = 7.58e-05\n"
     ]
    }
   ],
   "source": [
    "# Volúmenes de control internos\n",
    "aP = rho*Cp*dx/dt\n",
    "\n",
    "aE = -rho*Cp*u0/2 + k/dx\n",
    "\n",
    "aW = rho*Cp*u0/2 + k/dx\n",
    "\n",
    "Sp = -4*h*dx/di\n",
    "\n",
    "aP_n = aP - (aE + aW) + Sp\n",
    "\n",
    "Su = 4*h*Taire*dx/di\n",
    "\n",
    "print('aP = %.1f' %aP)\n",
    "print('aE = %.1f' %aE)\n",
    "print('aW = %.1f' %aW)\n",
    "print('aPn = %.1f' %aP_n)\n",
    "print('|sum a_nb|/|aP_n| = %.2e' %(abs(aE+aW)/abs(aP_n)))"
   ]
  },
  {
   "cell_type": "markdown",
   "id": "6b9f6d11-a1e5-4d90-b5e9-178dbdd7383b",
   "metadata": {},
   "source": [
    "#### Discretización de condición de borde 1 (CB1) en primer volumen de control:\n",
    "\n",
    "$$T(x=0,t) = T_{in} \\rightarrow T_{1-1/2}^n = T_{in}$$\n",
    "\n",
    "Sustituyendo en la ecuacion discretizada:\n",
    "\n",
    "$$ \\frac{\\rho C_p \\Delta x}{\\Delta t} T_1^{n+1} = \\left(-\\frac{\\rho C_p v_0}{2} + \\frac{k}{\\Delta x}\\right)T_2^n + \\left(\\frac{\\rho C_p \\Delta x}{\\Delta t} -\\frac{\\rho C_p v_0}{2} -\\frac{3 k}{\\Delta x} - \\frac{4 h \\Delta x}{d_i}\\right)T_1^n + \\left(\\rho C_p v_0 + \\frac{2 k}{\\Delta x}\\right)T_{in} + \\frac{4 h\\Delta x}{d_i}T_\\text{aire}$$\n",
    "\n",
    "Reordenando términos:\n",
    "\n",
    "$$ a_P = \\frac{\\rho C_p \\Delta x}{\\Delta t}$$\n",
    "\n",
    "$$ a_E = -\\frac{\\rho C_p v_0}{2} + \\frac{k}{\\Delta x}$$\n",
    "\n",
    "$$ a_W = 0$$\n",
    "\n",
    "$$ S_p = - \\left(\\rho C_p v_0 + \\frac{2 k}{\\Delta x}\\right) - \\frac{4 h \\Delta x}{d_i}$$\n",
    "\n",
    "$$ a_P' = a_P - (a_E + a_W)  + S_p$$\n",
    "\n",
    "$$ S_u = \\frac{4 h \\Delta x}{d_i}T_\\text{aire}$$"
   ]
  },
  {
   "cell_type": "code",
   "execution_count": 515,
   "id": "e1ed7072-1ed9-4465-9656-79bbad201756",
   "metadata": {},
   "outputs": [
    {
     "name": "stdout",
     "output_type": "stream",
     "text": [
      "aP (BC1) = 422264.0\n",
      "aE (BC1) = -84436.8\n",
      "aW (BC1) = 0.0\n",
      "|sum a_nb|/|aP_n| (BC1) = 2.50e-01\n"
     ]
    }
   ],
   "source": [
    "# Volúmen de control en boundary x=0 \n",
    "aP_bc1 = aP\n",
    "\n",
    "aE_bc1 = aE\n",
    "\n",
    "aW_bc1 = 0\n",
    "\n",
    "Sp_bc1 = Sp\n",
    "\n",
    "aP_n_bc1 = aP_bc1 -rho*Cp*u0/2 - 3*k/dx + Sp_bc1\n",
    "\n",
    "Su_bc1 = (rho*Cp*u0 + 2*k/dx)*Tin + Su\n",
    "\n",
    "print('aP (BC1) = %.1f' %aP_bc1)\n",
    "print('aE (BC1) = %.1f' %aE_bc1)\n",
    "print('aW (BC1) = %.1f' %aW_bc1)\n",
    "print('|sum a_nb|/|aP_n| (BC1) = %.2e' %(abs(aE_bc1+aW_bc1)/abs(aP_n_bc1)))"
   ]
  },
  {
   "cell_type": "markdown",
   "id": "e70cdd40-1403-430c-af9a-f0cd2a8b4dfc",
   "metadata": {},
   "source": [
    "#### Discretización de condicion de borde 2 (CB2) en último volumen de control:\n",
    "\n",
    "$$\\frac{d T}{d x}(x=L,t) = 0 \\rightarrow \\frac{T_{N+1/2} - T_{N}}{\\Delta x/2} = 0 \\rightarrow T_{N+1/2}^n = T_N^n$$\n",
    "\n",
    "Sustituyendo en la ecuacion discretizada:\n",
    "\n",
    "$$ \\frac{\\rho C_p \\Delta x}{\\Delta t} T_N^{n+1} = \\left(\\frac{\\rho C_p v_0}{2} + \\frac{k}{\\Delta x}\\right)T_{N+1}^n + \\left(\\frac{\\rho C_p \\Delta x}{\\Delta t} +\\frac{\\rho C_p v_0}{2} -\\frac{k}{\\Delta x} - \\frac{4 h \\Delta x}{d_i}\\right)T_N^n + \\frac{4 h\\Delta x}{d_i}T_\\text{aire}$$\n",
    "\n",
    "Reordenando términos:\n",
    "\n",
    "$$ a_P = \\frac{\\rho C_p \\Delta x}{\\Delta t}$$\n",
    "\n",
    "$$ a_E = 0$$\n",
    "\n",
    "$$ a_W = \\frac{\\rho C_p v_0}{2} + \\frac{k}{\\Delta x}$$\n",
    "\n",
    "$$ S_p = \\rho C_p v_0 - \\frac{4 h \\Delta x}{d_i}$$\n",
    "\n",
    "$$ a_P' = a_P - (a_E + a_W) + S_p $$\n",
    "\n",
    "$$ S_u = \\frac{4 h \\Delta x}{d_i}T_{aire}$$"
   ]
  },
  {
   "cell_type": "code",
   "execution_count": 516,
   "id": "36522b85-c7bd-45f2-bc7a-fbff1e2c48b9",
   "metadata": {},
   "outputs": [
    {
     "name": "stdout",
     "output_type": "stream",
     "text": [
      "aP (BC2) = 422264.0\n",
      "aE (BC2) = 0.0\n",
      "aW (BC2) = 84468.8\n",
      "|sum a_nb|/|aP_n| (BC2) = 1.67e-01\n"
     ]
    }
   ],
   "source": [
    "# Volúmen de control en boundary x=L\n",
    "aP_bc2 = aP\n",
    "\n",
    "aE_bc2 = 0\n",
    "\n",
    "aW_bc2 = aW\n",
    "\n",
    "Sp_bc2 = Sp\n",
    "\n",
    "aP_n_bc2 = aP_bc2 + rho*Cp*u0/2 - k/dx  + Sp_bc2\n",
    "\n",
    "Su_bc2 = Su\n",
    "\n",
    "print('aP (BC2) = %.1f' %aP_bc2)\n",
    "print('aE (BC2) = %.1f' %aE_bc2)\n",
    "print('aW (BC2) = %.1f' %aW_bc2)\n",
    "print('|sum a_nb|/|aP_n| (BC2) = %.2e' %(abs(aE_bc2+aW_bc2)/abs(aP_n_bc2)))"
   ]
  },
  {
   "cell_type": "code",
   "execution_count": 517,
   "id": "75f23be5-494f-42c1-ad46-5f143bb801a6",
   "metadata": {},
   "outputs": [],
   "source": [
    "# Vector b\n",
    "b = np.ones(len(T))\n",
    "b[0] = Su_bc1\n",
    "for i in range(1,N-1):\n",
    "    b[i] = Su\n",
    "b[-1] = Su_bc2\n",
    "\n",
    "# Matriz de coeficientes\n",
    "A = np.zeros([N, N])\n",
    "A[0][0] = aP_n_bc1\n",
    "A[0][1] = aE_bc1\n",
    "for i in range(1,N-1):\n",
    "    # Coeficientes del volúmen de control de la izquierda, (i-1)\n",
    "    A[i, i-1] = aW\n",
    "    \n",
    "    # Coeficientes del volúmen de control central, i\n",
    "    A[i, i] = aP_n\n",
    "        \n",
    "    # Coeficientes del volúmen de control de la derecha, i + 1\n",
    "    A[i, i+1] = aE\n",
    "\n",
    "A[N-1][N-1] = aP_n_bc2\n",
    "A[N-1][N-2] = aW_bc2\n"
   ]
  },
  {
   "cell_type": "code",
   "execution_count": 518,
   "id": "92cf2b94-83d8-4a89-a59e-b97c570387bd",
   "metadata": {
    "scrolled": true
   },
   "outputs": [
    {
     "data": {
      "image/png": "[encoded data removed]",
      "text/plain": [
       "<Figure size 300x300 with 1 Axes>"
      ]
     },
     "metadata": {},
     "output_type": "display_data"
    }
   ],
   "source": [
    "# Creamos un gráfico de 3 x 3\n",
    "fig, ax = plt.subplots(1, 1, figsize = [3,3])\n",
    "\n",
    "# Graficamos spy\n",
    "ax.spy(A, markersize = 3)\n",
    "plt.show()"
   ]
  },
  {
   "cell_type": "markdown",
   "id": "e36aab5c-703a-4221-8ec4-9fbb1892146d",
   "metadata": {},
   "source": [
    "### Iteración"
   ]
  },
  {
   "cell_type": "code",
   "execution_count": 519,
   "id": "4a81837b-804a-46c1-9215-b1312f39aa61",
   "metadata": {},
   "outputs": [
    {
     "name": "stdout",
     "output_type": "stream",
     "text": [
      "0.3599999999999999\n",
      "0.76\n",
      "1.1600000000000004\n",
      "1.5600000000000007\n",
      "1.960000000000001\n",
      "2.360000000000001\n",
      "2.7600000000000016\n",
      "3.160000000000002\n",
      "3.5600000000000023\n",
      "3.9600000000000026\n",
      "4.360000000000003\n",
      "4.760000000000003\n",
      "5.160000000000004\n",
      "5.560000000000004\n",
      "5.960000000000004\n",
      "6.360000000000005\n",
      "6.760000000000005\n",
      "7.1600000000000055\n",
      "7.560000000000006\n",
      "7.960000000000006\n",
      "8.359999999999998\n",
      "8.75999999999999\n",
      "9.15999999999998\n",
      "9.559999999999972\n",
      "9.959999999999964\n",
      "10.359999999999955\n",
      "10.759999999999946\n",
      "11.159999999999938\n",
      "11.55999999999993\n",
      "11.959999999999921\n"
     ]
    }
   ],
   "source": [
    "# Lista con los perfiles de temperatura para cada write_interval\n",
    "T_sol = []\n",
    "T_sol.append(T)\n",
    "\n",
    "T_old = np.copy(T)\n",
    "\n",
    "# Ecuación de evolución desde t = 0 hasta t = tmax\n",
    "t = 0\n",
    "\n",
    "# Lista con los tiempos\n",
    "times = []\n",
    "times.append(0)\n",
    "\n",
    "n = 1\n",
    "while t < t_final:\n",
    "    T_new = (np.dot(A,T_old) + b)*(1/aP)\n",
    "    t += dt\n",
    "    n += 1\n",
    "    T_old = np.copy(T_new)\n",
    "   \n",
    "    # Almacenar soluciones en cada write_interval\n",
    "    if round(n%10) == 0:\n",
    "        T_sol.append(T_new)\n",
    "        print(t)\n",
    "        times.append(t)\n"
   ]
  },
  {
   "cell_type": "code",
   "execution_count": 520,
   "id": "f4b48ca7-19de-4060-85e3-18a6556375e2",
   "metadata": {},
   "outputs": [
    {
     "data": {
      "image/png": "[encoded data removed]",
      "text/plain": [
       "<Figure size 1000x600 with 1 Axes>"
      ]
     },
     "metadata": {},
     "output_type": "display_data"
    }
   ],
   "source": [
    "# Visualizar el perfil de temperatura\n",
    "fig, ax = plt.subplots(1, 1, figsize = [10,6])\n",
    "\n",
    "n_temp = len(T_sol)\n",
    "\n",
    "plasma = matplotlib.colormaps['plasma']\n",
    "colour = [plasma(i/n_temp) for i in range(n_temp)]\n",
    "\n",
    "for j in range(0,len(T_sol),2):\n",
    "    plt.plot(x_grilla, T_sol[j], color = colour[j], label = \"t = %.0f s\" % times[j])\n",
    "\n",
    "plt.plot(0,Tin,'xk',)\n",
    "\n",
    "plt.xlabel(' $z$ / m', size = 14)\n",
    "plt.ylabel(' $T$ / K', size = 14)\n",
    "plt.grid()\n",
    "#plt.legend()\n",
    "plt.show()"
   ]
  }
 ],
 "metadata": {
  "kernelspec": {
   "display_name": "Python 3 (ipykernel)",
   "language": "python",
   "name": "python3"
  },
  "language_info": {
   "codemirror_mode": {
    "name": "ipython",
    "version": 3
   },
   "file_extension": ".py",
   "mimetype": "text/x-python",
   "name": "python",
   "nbconvert_exporter": "python",
   "pygments_lexer": "ipython3",
   "version": "3.10.13"
  }
 },
 "nbformat": 4,
 "nbformat_minor": 5
}
