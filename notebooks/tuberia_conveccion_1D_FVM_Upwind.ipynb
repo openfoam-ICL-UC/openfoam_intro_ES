{
 "cells": [
  {
   "cell_type": "markdown",
   "id": "66fcc145-65ba-48f1-a688-05b24c909e52",
   "metadata": {},
   "source": [
    "# Conservación de energía en flujo en tubería 1‐D\n",
    "\n",
    "## Workshop - Introducción a OpenFOAM para la Ingeniería Química\n"
   ]
  },
  {
   "cell_type": "markdown",
   "id": "66246c13-8bfb-436b-bdde-d45c56a80d08",
   "metadata": {},
   "source": [
    "<img src=\"../Documentacion/Figuras/Fig_1_Seccion_1.1_c.png\" alt=\"Alternative text\" \n",
    "     align=\"right\"\n",
    "     width=\"500\"/> \n",
    "\n",
    "La ecuación en derivadas parciales en una dimensión que describe el problema de transferencia de calor de un fluido en una tubería circular y su calentamiento por convección natural (Figura 1) esta dada por:\n",
    "\n",
    "$$\\rho \\hat{C}_p \\frac{\\partial T}{\\partial t} = k \\frac{\\partial^2 T}{\\partial x^2} - \\rho \\hat{C}_p v_0 \\frac{\\partial T}{\\partial x} - \\frac{4 h(T-T_\\text{aire})}{d_i} $$\n",
    "\n",
    "Con condiciones de borde:\n",
    "\n",
    "$$ CB1: T(x=0) = T_{in}$$\n",
    "\n",
    "$$ CB2: \\frac{d T}{d x}(x = L) = 0$$\n",
    "\n",
    "Y condición inicial:\n",
    "\n",
    "$$ CI: T(x, t=0) = T_{in}$$\n",
    "\n",
    "La versión discretizada de esta ecuación que obtuvimos al aplicar el [método de volúmenes finitos](https://github.com/openfoam-ICL-UC/openfoam_intro_ES/wiki/Conservaci%C3%B3n-de-energ%C3%ADa-en-flujo-en-tuber%C3%ADa-1%E2%80%90D) y considerando para las derivadas espaciales un esquema central para el término de transporte de calor por conducción y Upwind para el término de transporte de calor por convección, mientras que un esquema Eurler hacia adelante para la derivada temporal."
   ]
  },
  {
   "cell_type": "markdown",
   "id": "0cdda0e1-abd9-4de9-9b6a-115c96cdb14a",
   "metadata": {},
   "source": [
    "### Importar módulos"
   ]
  },
  {
   "cell_type": "code",
   "execution_count": 1,
   "id": "830ed0e7-23b0-49b1-be84-234062fce3b1",
   "metadata": {},
   "outputs": [],
   "source": [
    "# Mejorar calidad de gráficos en Jupyter Notebook\n",
    "#%matplotlib notebook\n",
    "\n",
    "# Visualización de datos y gráficos\n",
    "import matplotlib\n",
    "import matplotlib.pyplot as plt \n",
    "\n",
    "# Computación numérica\n",
    "import numpy as np\n",
    "\n",
    "# Función para integración numérica\n",
    "from scipy.integrate import solve_ivp"
   ]
  },
  {
   "cell_type": "markdown",
   "id": "f2117065-a298-4c1e-9782-7f7e9e393446",
   "metadata": {},
   "source": [
    "### Inicializar las variables y parámetros del problema"
   ]
  },
  {
   "cell_type": "code",
   "execution_count": 2,
   "id": "452d373c-4904-4eb5-b6c1-fb0744b4e29d",
   "metadata": {},
   "outputs": [
    {
     "name": "stdout",
     "output_type": "stream",
     "text": [
      "Pr = 2.769\n",
      "Pe = 1055660.118\n"
     ]
    }
   ],
   "source": [
    "# Parámetros constantes conocidos\n",
    "\n",
    "# Largo de la tubería / m\n",
    "L = 1\n",
    "\n",
    "# Diámetro interno de la tubería / m\n",
    "di = 0.0254*2\n",
    "\n",
    "# Velocidad del fluido / m s^-1\n",
    "u0 = 0.1\n",
    "\n",
    "# Temperatura del aire / K\n",
    "Taire = 273.15 + 25\n",
    "\n",
    "# Temperatura de entrada del fluido / K\n",
    "Tin = 70\n",
    "\n",
    "# Coeficiente de transferencia de calor por convección natural / W m^-2 K^-1 \n",
    "h = 25\n",
    "\n",
    "# Propiedades del Nitrogeno liquido a 70 K y 1 atm\n",
    "# Densidad del fluido / kg m^-3\n",
    "rho = 838.645\n",
    "\n",
    "# Viscosidad / Pa s\n",
    "mu = 2.2e-4\n",
    "\n",
    "# Conductividad termica / W m^-1 K^-1 \n",
    "k = 0.16\n",
    "\n",
    "# Capacidad calorífica a presión constante / J kg^-1 K^-1\n",
    "Cp = 2014.03\n",
    "\n",
    "# Difusividad térmica / m^2 s^-1\n",
    "alpha = k / (rho * Cp) \n",
    "\n",
    "# Prandtl number Pr=(mu/rho)/alpha\n",
    "Pr = (mu/rho)/alpha\n",
    "print('Pr = %.3f' %Pr)\n",
    "\n",
    "# Peclet\n",
    "Pe = u0/(alpha/L)\n",
    "print('Pe = %.3f' %Pe)"
   ]
  },
  {
   "cell_type": "markdown",
   "id": "cbef121b-3b4e-4d4f-b32e-4de759bcb245",
   "metadata": {},
   "source": [
    "### Generar la grilla 1-D y espaciamiento espacial"
   ]
  },
  {
   "cell_type": "code",
   "execution_count": 3,
   "id": "7899967b-f02b-4f2c-9d77-516d88d60f48",
   "metadata": {},
   "outputs": [
    {
     "name": "stdout",
     "output_type": "stream",
     "text": [
      "dx = 1.0e-02\n",
      "[0.005 0.015 0.025 0.035 0.045 0.055 0.065 0.075 0.085 0.095 0.105 0.115\n",
      " 0.125 0.135 0.145 0.155 0.165 0.175 0.185 0.195 0.205 0.215 0.225 0.235\n",
      " 0.245 0.255 0.265 0.275 0.285 0.295 0.305 0.315 0.325 0.335 0.345 0.355\n",
      " 0.365 0.375 0.385 0.395 0.405 0.415 0.425 0.435 0.445 0.455 0.465 0.475\n",
      " 0.485 0.495 0.505 0.515 0.525 0.535 0.545 0.555 0.565 0.575 0.585 0.595\n",
      " 0.605 0.615 0.625 0.635 0.645 0.655 0.665 0.675 0.685 0.695 0.705 0.715\n",
      " 0.725 0.735 0.745 0.755 0.765 0.775 0.785 0.795 0.805 0.815 0.825 0.835\n",
      " 0.845 0.855 0.865 0.875 0.885 0.895 0.905 0.915 0.925 0.935 0.945 0.955\n",
      " 0.965 0.975 0.985 0.995]\n"
     ]
    }
   ],
   "source": [
    "# Grilla en coordenada x a lo largo de la tubería\n",
    "\n",
    "# Tupla que contiene el valor de x inicial y final\n",
    "x_rango = (0, L)\n",
    "\n",
    "# Número de puntos en la grilla\n",
    "N = 100\n",
    "\n",
    "# Espaciamiento espacial\n",
    "dx = L/N\n",
    "dx_half = dx/2\n",
    "\n",
    "\n",
    "# Vector con coordenadas en x\n",
    "# el vector x_grilla almacena las coordenadas de los puntos centrales (P) de cada volumen de control\n",
    "x_grilla = np.linspace(dx_half, L-dx_half, N)\n",
    "\n",
    "print('dx = %.1e' %dx)\n",
    "print(x_grilla)"
   ]
  },
  {
   "cell_type": "code",
   "execution_count": 4,
   "id": "037aad17-9e26-45dd-ab03-ed56b828a72d",
   "metadata": {},
   "outputs": [
    {
     "name": "stdout",
     "output_type": "stream",
     "text": [
      "Cell Peclet numer = 10556.6\n"
     ]
    }
   ],
   "source": [
    "# Cell Peclet number\n",
    "# for central differencing Pe < 2\n",
    "Pe = rho*u0/((rho*alpha)/dx)\n",
    "print('Cell Peclet numer = %.1f' %Pe)"
   ]
  },
  {
   "cell_type": "markdown",
   "id": "d4d08f56-f083-40f8-9dc0-74490a8a6ef4",
   "metadata": {},
   "source": [
    "### Definiendo espaciamiento temporal"
   ]
  },
  {
   "cell_type": "code",
   "execution_count": 13,
   "id": "75306134-2934-4a5b-9758-d46fcc083cb0",
   "metadata": {},
   "outputs": [
    {
     "name": "stdout",
     "output_type": "stream",
     "text": [
      "dt (CFL) <= 2.00e-01\n",
      "dt (cond) <= 5.28e+02\n",
      "dt 4.00e-02\n",
      "final time = 12.0\n"
     ]
    },
    {
     "data": {
      "text/plain": [
       "array([70., 70., 70., 70., 70., 70., 70., 70., 70., 70., 70., 70., 70.,\n",
       "       70., 70., 70., 70., 70., 70., 70., 70., 70., 70., 70., 70., 70.,\n",
       "       70., 70., 70., 70., 70., 70., 70., 70., 70., 70., 70., 70., 70.,\n",
       "       70., 70., 70., 70., 70., 70., 70., 70., 70., 70., 70., 70., 70.,\n",
       "       70., 70., 70., 70., 70., 70., 70., 70., 70., 70., 70., 70., 70.,\n",
       "       70., 70., 70., 70., 70., 70., 70., 70., 70., 70., 70., 70., 70.,\n",
       "       70., 70., 70., 70., 70., 70., 70., 70., 70., 70., 70., 70., 70.,\n",
       "       70., 70., 70., 70., 70., 70., 70., 70., 70.])"
      ]
     },
     "execution_count": 13,
     "metadata": {},
     "output_type": "execute_result"
    }
   ],
   "source": [
    "# Courant–Friedrichs–Lewy number\n",
    "CFL_max = 1.0\n",
    "dt_CFL = CFL_max * 2 * dx / u0\n",
    "print('dt (CFL) <= %.2e' %dt_CFL)\n",
    "\n",
    "# rho*Cp*dx/dt > 2*k/dx\n",
    "dt_cond = rho*Cp*dx**2/(2*k)\n",
    "print('dt (cond) <= %.2e' %dt_cond)\n",
    "\n",
    "# Espaciamiento temporal\n",
    "dt = min(dt_CFL,dt_cond)\n",
    "dt = dt/5\n",
    "print('dt %.2e' %dt)\n",
    "\n",
    "# Tiempo inicial\n",
    "t_inicial = 0.0\n",
    "\n",
    "# Tiempo final\n",
    "t_final = 12 #dt*1e5\n",
    "print('final time = %.1f' %t_final)\n",
    "\n",
    "#Condición inicial de temperatura\n",
    "T = np.ones(N) * Tin\n",
    "T"
   ]
  },
  {
   "cell_type": "markdown",
   "id": "b6c02751-2d92-4198-8d3e-32e8e955c70b",
   "metadata": {},
   "source": [
    "### Definir los coefficients de la matriz A y el vector b\n",
    "\n",
    "La ecuación discretizada por el método de volúmenes finitos puede escribirse en forma matricial como:\n",
    "\n",
    "$$ a_P \\mathbf{T}^{n+1} = \\mathbf{A}\\mathbf{T}^{n} + \\mathbf{b}$$\n",
    "\n",
    "#### Discretización para los volúmenes de control internos:\n",
    "\n",
    "$$ \\frac{\\rho C_p \\Delta x}{\\Delta t} T_P^{n+1} = \\left(\\frac{k}{\\Delta x}\\right)T_E^n + \\left(\\rho C_p v_0 + \\frac{k}{\\Delta x}\\right)T_W^n + \\left(\\frac{\\rho C_p \\Delta x}{\\Delta t} -\\rho C_p v_0 -2\\frac{k}{\\Delta x} - \\frac{4 h \\Delta x}{d_i}\\right)T_P^n + \\frac{4 h\\Delta x}{d_i}T_\\text{aire}$$\n",
    "\n",
    "Podemos definir los siquientes coeficientes:\n",
    "\n",
    "$$ a_P T_P^{n+1} = a_E T_E^n + a_W T_W^n + a_P' T_P^n + S_u$$\n",
    "\n",
    "$$ a_P = \\frac{\\rho C_p \\Delta x}{\\Delta t}$$\n",
    "\n",
    "$$ a_E = \\frac{k}{\\Delta x}$$\n",
    "\n",
    "$$ a_W = \\rho C_p v_0 + \\frac{k}{\\Delta x}$$\n",
    "\n",
    "$$ S_p = - \\frac{4 h \\Delta x}{d_i}$$\n",
    "\n",
    "$$ a_P' = a_P - (a_E + a_W) + S_p$$\n",
    "\n",
    "$$ S_u = \\frac{4 h \\Delta x}{d_i}T_\\text{aire}$$"
   ]
  },
  {
   "cell_type": "code",
   "execution_count": 6,
   "id": "f07cc22e-b83b-43c7-a8c2-f5f90c97143b",
   "metadata": {},
   "outputs": [
    {
     "name": "stdout",
     "output_type": "stream",
     "text": [
      "aP = 422264.0\n",
      "aE = 16.0\n",
      "aW = 168921.6\n",
      "|sum a_nb|/|aP_n| = 6.67e-01\n"
     ]
    }
   ],
   "source": [
    "# Volúmenes de control internos\n",
    "aP = rho*Cp*dx/dt\n",
    "\n",
    "aE = k/dx\n",
    "\n",
    "aW = rho*Cp*u0 + k/dx\n",
    "\n",
    "Sp = -4*h*dx/di\n",
    "\n",
    "aP_n = aP - (aE + aW) + Sp\n",
    "\n",
    "Su = 4*h*Taire*dx/di\n",
    "\n",
    "print('aP = %.1f' %aP)\n",
    "print('aE = %.1f' %aE)\n",
    "print('aW = %.1f' %aW)\n",
    "print('|sum a_nb|/|aP_n| = %.2e' %(abs(aE+aW)/abs(aP_n)))"
   ]
  },
  {
   "cell_type": "markdown",
   "id": "caed6fde-fcf0-4a1a-b791-341a5db98a05",
   "metadata": {},
   "source": [
    "#### Discretización de condición de borde 1 (CB1) en primer volumen de control:\n",
    "\n",
    "$$T(x=0,t) = T_{in} \\rightarrow T_{1-1/2}^n = T_{in}$$\n",
    "\n",
    "Sustituyendo en la ecuacion discretizada:\n",
    "\n",
    "$$ \\rho C_p \\frac{T_1^{n+1} - T_1^n}{\\Delta t} = - \\frac{\\rho C_p v_0}{\\Delta x}\\left(T_1^n-T_{in}\\right) + \\frac{1}{\\Delta x}\\left(k\\left(\\frac{T_2^n-T_1^n}{\\Delta x}\\right) - k\\left(\\frac{T_1^n - T_{in}}{\\Delta x/2}\\right)\\right) - \\frac{4 h(T_1^n-T_\\text{aire})}{d_i}$$\n",
    "\n",
    "Reordenando términos:\n",
    "\n",
    "$$\\frac{\\rho C_p\\Delta x}{\\Delta t} T_1^{n+1} = \\left(\\frac{k}{\\Delta x}\\right)T_2^n + \\left(\\frac{\\rho C_p\\Delta x}{\\Delta t} - \\rho C_p v_0-\\frac{3 k}{\\Delta x} -\\frac{4 h\\Delta x}{d_i}\\right)T_1^n + \\left(\\rho C_p v_0 + \\frac{2 k}{\\Delta x}\\right)T_{in} + \\frac{4 h \\Delta x}{d_i}T_{aire}$$\n",
    "\n",
    "$$ a_P = \\frac{\\rho C_p \\Delta x}{\\Delta t}$$\n",
    "\n",
    "$$ a_E = \\frac{k}{\\Delta x}$$\n",
    "\n",
    "$$ a_W = 0$$\n",
    "\n",
    "$$ S_p = - \\rho C_p v_0 -\\frac{2 k}{\\Delta x} - \\frac{4 h \\Delta x}{d_i}$$\n",
    "\n",
    "$$ a_P' = a_P - (a_E + a_W) + S_p $$\n",
    "\n",
    "$$ S_u = \\left(\\rho C_p v_0 + \\frac{2 k}{\\Delta x}\\right)T_{in} + \\frac{4 h \\Delta x}{d_i}T_{aire}$$"
   ]
  },
  {
   "cell_type": "code",
   "execution_count": 7,
   "id": "e1ed7072-1ed9-4465-9656-79bbad201756",
   "metadata": {
    "scrolled": true
   },
   "outputs": [
    {
     "name": "stdout",
     "output_type": "stream",
     "text": [
      "aP (BC1) = 422264.0\n",
      "aE (BC1) = 16.0\n",
      "aW (BC1) = 0.0\n",
      "|sum a_nb|/|aP_n| (BC1) = 6.32e-05\n"
     ]
    }
   ],
   "source": [
    "# Volúmen de control en boundary x=0 \n",
    "aP_bc1 = aP\n",
    "\n",
    "aE_bc1 = aE\n",
    "\n",
    "aW_bc1 = 0\n",
    "\n",
    "Sp_bc1 = Sp\n",
    "\n",
    "aP_n_bc1 = aP_bc1 -rho*Cp*u0 - 3*k/dx + Sp_bc1\n",
    "\n",
    "Su_bc1 = (rho*Cp*u0 + 2*k/dx)*Tin + Su\n",
    "\n",
    "print('aP (BC1) = %.1f' %aP_bc1)\n",
    "print('aE (BC1) = %.1f' %aE_bc1)\n",
    "print('aW (BC1) = %.1f' %aW_bc1)\n",
    "print('|sum a_nb|/|aP_n| (BC1) = %.2e' %(abs(aE_bc1+aW_bc1)/abs(aP_n_bc1)))"
   ]
  },
  {
   "cell_type": "markdown",
   "id": "9c49c47b-c2b5-4f64-8b1b-1b09f34eac46",
   "metadata": {},
   "source": [
    "#### Discretización de condicion de borde 2 (CB2) en último volumen de control:\n",
    "\n",
    "$$\\frac{d T}{d x}(x=L,t) = 0 \\rightarrow \\frac{T_{N+1/2} - T_{N}}{\\Delta x/2} = 0 \\rightarrow T_{N+1/2}^n = T_N^n$$\n",
    "\n",
    "Sustituyendo en la ecuacion discretizada:\n",
    "\n",
    "$$ \\rho C_p \\frac{T_N^{n+1} - T_N^n}{\\Delta t} = - \\frac{\\rho C_p v_0}{\\Delta x}\\left(T_N^n-T_{N-1}^n\\right) + \\frac{1}{\\Delta x}\\left(k\\left(\\frac{T_{N+1/2}^n-T_N^n}{\\Delta x/2}\\right) - k\\left(\\frac{T_N^n - T_{N-1}^n}{\\Delta x}\\right)\\right) - \\frac{4 h(T_N^n-T_\\text{aire})}{d_i}$$\n",
    "\n",
    "$$ \\rho C_p \\frac{T_N^{n+1} - T_N^n}{\\Delta t} = - \\frac{\\rho C_p v_0}{\\Delta x}\\left(T_N^n-T_{N-1}^n\\right) + \\frac{1}{\\Delta x}\\left(0 - k\\left(\\frac{T_N^n - T_{N-1}^n}{\\Delta x}\\right)\\right) - \\frac{4 h(T_N^n-T_\\text{aire})}{d_i}$$\n",
    "\n",
    "Reordenando términos:\n",
    "\n",
    "$$\\frac{\\rho C_p\\Delta x}{\\Delta t} T_N^{n+1} = \\left(\\frac{\\rho C_p\\Delta x}{\\Delta t} - \\rho C_p v_0 -\\frac{k}{\\Delta x} -\\frac{4 h\\Delta x}{d_i}\\right)T_N^n + \\left(\\rho C_p v_0 + \\frac{k}{\\Delta x}\\right)T_{N-1}^n + \\frac{4 h \\Delta x}{d_i}T_{aire}$$\n",
    "\n",
    "$$ a_P = \\frac{\\rho C_p \\Delta x}{\\Delta t}$$\n",
    "\n",
    "$$ a_E = 0$$\n",
    "\n",
    "$$ a_W = \\rho C_p v_0 + \\frac{k}{\\Delta x}$$\n",
    "\n",
    "$$ S_p = - \\frac{4 h \\Delta x}{d_i}$$\n",
    "\n",
    "$$ a_P' = a_P - (a_E + a_W) + S_p $$\n",
    "\n",
    "$$ S_u = \\frac{4 h \\Delta x}{d_i}T_{aire}$$"
   ]
  },
  {
   "cell_type": "code",
   "execution_count": 8,
   "id": "36522b85-c7bd-45f2-bc7a-fbff1e2c48b9",
   "metadata": {
    "scrolled": true
   },
   "outputs": [
    {
     "name": "stdout",
     "output_type": "stream",
     "text": [
      "aP (BC2) = 422264.0\n",
      "aE (BC2) = 0.0\n",
      "aW (BC2) = 168921.6\n",
      "|sum a_nb|/|aP_n| (BC2) = 6.67e-01\n"
     ]
    }
   ],
   "source": [
    "# Volúmen de control en boundary x=L\n",
    "aP_bc2 = aP\n",
    "\n",
    "aE_bc2 = 0\n",
    "\n",
    "aW_bc2 = aW\n",
    "\n",
    "Sp_bc2 = Sp\n",
    "\n",
    "aP_n_bc2 = aP_bc2 - rho*Cp*u0 - k/dx  + Sp_bc2\n",
    "\n",
    "Su_bc2 = Su\n",
    "\n",
    "print('aP (BC2) = %.1f' %aP_bc2)\n",
    "print('aE (BC2) = %.1f' %aE_bc2)\n",
    "print('aW (BC2) = %.1f' %aW_bc2)\n",
    "print('|sum a_nb|/|aP_n| (BC2) = %.2e' %(abs(aE_bc2+aW_bc2)/abs(aP_n_bc2)))"
   ]
  },
  {
   "cell_type": "code",
   "execution_count": 9,
   "id": "75f23be5-494f-42c1-ad46-5f143bb801a6",
   "metadata": {},
   "outputs": [],
   "source": [
    "# Vector b\n",
    "b = np.ones(len(T))\n",
    "b[0] = Su_bc1\n",
    "for i in range(1,N-1):\n",
    "    b[i] = Su\n",
    "b[-1] = Su_bc2\n",
    "\n",
    "# Matriz de coeficientes\n",
    "A = np.zeros([N, N])\n",
    "A[0][0] = aP_n_bc1\n",
    "A[0][1] = aE_bc1\n",
    "for i in range(1,N-1):\n",
    "    # Coeficientes del volúmen de control de la izquierda, (i-1)\n",
    "    A[i, i-1] = aW\n",
    "    \n",
    "    # Coeficientes del volúmen de control central, i\n",
    "    A[i, i] = aP_n\n",
    "        \n",
    "    # Coeficientes del volúmen de control de la derecha, i + 1\n",
    "    A[i, i+1] = aE\n",
    "\n",
    "A[N-1][N-1] = aP_n_bc2\n",
    "A[N-1][N-2] = aW_bc2\n"
   ]
  },
  {
   "cell_type": "code",
   "execution_count": 10,
   "id": "92cf2b94-83d8-4a89-a59e-b97c570387bd",
   "metadata": {
    "scrolled": true
   },
   "outputs": [
    {
     "data": {
      "image/png": "[encoded data removed]",
      "text/plain": [
       "<Figure size 300x300 with 1 Axes>"
      ]
     },
     "metadata": {},
     "output_type": "display_data"
    }
   ],
   "source": [
    "# Creamos un gráfico de N x N\n",
    "fig, ax = plt.subplots(1, 1, figsize = [3,3])\n",
    "\n",
    "# Graficamos spy\n",
    "ax.spy(A, markersize = 3)\n",
    "plt.show()"
   ]
  },
  {
   "cell_type": "markdown",
   "id": "e36aab5c-703a-4221-8ec4-9fbb1892146d",
   "metadata": {},
   "source": [
    "### Iteración"
   ]
  },
  {
   "cell_type": "code",
   "execution_count": 11,
   "id": "4a81837b-804a-46c1-9215-b1312f39aa61",
   "metadata": {},
   "outputs": [
    {
     "name": "stdout",
     "output_type": "stream",
     "text": [
      "1.960000000000001\n",
      "3.9600000000000026\n",
      "5.960000000000004\n",
      "7.960000000000006\n",
      "9.959999999999964\n",
      "11.959999999999921\n"
     ]
    }
   ],
   "source": [
    "# Lista con los perfiles de temperatura para cada tiempo almacenado\n",
    "T_sol = []\n",
    "\n",
    "# Copiar vector inicial de temperatura\n",
    "T_old = np.copy(T)\n",
    "\n",
    "# Inicializar tiempo\n",
    "t = 0\n",
    "\n",
    "# Lista para almacenar los timepos en los cuales se almacenan las soluciones del perfil de temperatura\n",
    "times = []\n",
    "\n",
    "# Inicializar contador que se utiliza para almacenar las soluciones\n",
    "n = 1\n",
    "\n",
    "# Loop para avanzar en el tiempo \n",
    "while t < t_final:\n",
    "    # Contruir nuevo vector de temperatura\n",
    "    T_new = (np.dot(A,T_old) + b)*(1/aP)\n",
    "\n",
    "    # Progresar timepo con dt\n",
    "    t += dt\n",
    "\n",
    "    # Incrementar contador\n",
    "    n += 1\n",
    "\n",
    "    # Reemplazar antiguo vector de temperatura con nuevo perfil calculado\n",
    "    T_old = np.copy(T_new)\n",
    "    \n",
    "    # Almacenar solucion\n",
    "    if round(n%50) == 0:\n",
    "        T_sol.append(T_new)\n",
    "        print(t)\n",
    "        times.append(t)"
   ]
  },
  {
   "cell_type": "code",
   "execution_count": 18,
   "id": "ce80b4f2-905a-40b7-bfb8-418da837c03e",
   "metadata": {},
   "outputs": [
    {
     "data": {
      "image/png": "[encoded data removed]",
      "text/plain": [
       "<Figure size 640x480 with 1 Axes>"
      ]
     },
     "metadata": {},
     "output_type": "display_data"
    }
   ],
   "source": [
    "# Visualizar temperatura a lo largo de la tubería\n",
    "n_temp = len(T_sol)\n",
    "plasma = matplotlib.colormaps['plasma']\n",
    "colour = [plasma(i/n_temp) for i in range(n_temp)]\n",
    "\n",
    "for j in range(len(T_sol)):\n",
    "    plt.plot(x_grilla, T_sol[j], color = colour[j], label = \"t = %.0f s\" % times[j])\n",
    "\n",
    "\n",
    "plt.xlabel(' $x$ / m', size = 14)\n",
    "plt.ylabel(' $T$ / K', size = 14)\n",
    "plt.grid()\n",
    "plt.legend()\n",
    "plt.show()"
   ]
  },
  {
   "cell_type": "code",
   "execution_count": 19,
   "id": "827df648-c029-4b26-80f1-781997a74d0b",
   "metadata": {},
   "outputs": [
    {
     "name": "stdout",
     "output_type": "stream",
     "text": [
      "Temperatura promedio en la tuberia en tiempo final = 71.337 K\n"
     ]
    }
   ],
   "source": [
    "## Calcular la temperatura promedio en toda la tuberia\n",
    "\n",
    "# Area transversal de la turbería / m^2\n",
    "A = np.pi*(di/2)**2\n",
    "\n",
    "# Integrar el perfil de temperatura a lo largo de la tubería para obtener la temperatura promedio\n",
    "Tmean = []\n",
    "for j in range(len(T_sol)):\n",
    "    temp = np.sum(T_sol[j])/N\n",
    "    Tmean.append(temp)\n",
    "\n",
    "# Agregar calculo con trapz\n",
    "#Tmean2 = np.trapz(Tub, x=X)\n",
    "print('Temperatura promedio en la tuberia en tiempo final = %.3f K' %Tmean[-1])\n"
   ]
  },
  {
   "cell_type": "code",
   "execution_count": 20,
   "id": "e5a442b9-dfb8-42ce-ac07-d524982e273f",
   "metadata": {},
   "outputs": [
    {
     "data": {
      "image/png": "[encoded data removed]",
      "text/plain": [
       "<Figure size 640x480 with 1 Axes>"
      ]
     },
     "metadata": {},
     "output_type": "display_data"
    }
   ],
   "source": [
    "# Visualizar temperatura promedio a lo largo del tiempo\n",
    "for j in range(len(T_sol)):\n",
    "    plt.plot(times[j], Tmean[j], 'o', color = colour[j], label = \"t = %.0f s\" % times[j])\n",
    "\n",
    "plt.xlabel(' $t$ / s', size = 14)\n",
    "plt.ylabel(' $T_{mean}$ / K', size = 14)\n",
    "plt.grid()\n",
    "plt.legend()\n",
    "plt.show()"
   ]
  },
  {
   "cell_type": "code",
   "execution_count": 21,
   "id": "c728e0dd-84c8-4ad1-bd20-b7be29715dfb",
   "metadata": {},
   "outputs": [
    {
     "name": "stdout",
     "output_type": "stream",
     "text": [
      "Flux de calor total en tiempo final = 904.942 W\n",
      "\n"
     ]
    }
   ],
   "source": [
    "# Calcular el flux de calor por convección natural transferido por el manto de la tuberia en cada punto a lo largo de la grilla\n",
    "Atub_CV = 2*np.pi*(di/2)*dx\n",
    "\n",
    "Q = []\n",
    "for j in range(len(T_sol)):\n",
    "    Qtemp = -h*(T_sol[j] - Taire)*Atub_CV #W\n",
    "    Q.append(Qtemp)\n",
    "\n",
    "# Calcular flux de calor total \n",
    "Qtot = np.sum(Q[-1])\n",
    "print('Flux de calor total en tiempo final = %.3f W\\n' %Qtot)"
   ]
  },
  {
   "cell_type": "code",
   "execution_count": 22,
   "id": "dcd5aaba-ebc1-4e80-9ebb-5da5f968563a",
   "metadata": {
    "scrolled": true
   },
   "outputs": [
    {
     "data": {
      "image/png": "[encoded data removed]",
      "text/plain": [
       "<Figure size 640x480 with 1 Axes>"
      ]
     },
     "metadata": {},
     "output_type": "display_data"
    }
   ],
   "source": [
    "# Visualizar flux de calor a lo largo de la tubería\n",
    "for j in range(len(T_sol)):\n",
    "    plt.plot(x_grilla, Q[j], color = colour[j], label = \"t = %.0f s\" % times[j])\n",
    "\n",
    "plt.xlabel(' $x$ / m', size = 14)\n",
    "plt.ylabel(' $Q$ / W', size = 14)\n",
    "plt.grid()\n",
    "plt.legend()\n",
    "plt.show()"
   ]
  }
 ],
 "metadata": {
  "kernelspec": {
   "display_name": "Python 3 (ipykernel)",
   "language": "python",
   "name": "python3"
  },
  "language_info": {
   "codemirror_mode": {
    "name": "ipython",
    "version": 3
   },
   "file_extension": ".py",
   "mimetype": "text/x-python",
   "name": "python",
   "nbconvert_exporter": "python",
   "pygments_lexer": "ipython3",
   "version": "3.10.13"
  }
 },
 "nbformat": 4,
 "nbformat_minor": 5
}
